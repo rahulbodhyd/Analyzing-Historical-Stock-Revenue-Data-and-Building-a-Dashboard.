{
 "cells": [
  {
   "cell_type": "markdown",
   "metadata": {},
   "source": [
    "<p style=\"text-align:center\">\n",
    "    <a href=\"https://skills.network/?utm_medium=Exinfluencer&utm_source=Exinfluencer&utm_content=000026UJ&utm_term=10006555&utm_id=NA-SkillsNetwork-Channel-SkillsNetworkCoursesIBMDeveloperSkillsNetworkPY0220ENSkillsNetwork900-2022-01-01\" target=\"_blank\">\n",
    "    <img src=\"https://cf-courses-data.s3.us.cloud-object-storage.appdomain.cloud/assets/logos/SN_web_lightmode.png\" width=\"200\" alt=\"Skills Network Logo\">\n",
    "    </a>\n",
    "</p>\n"
   ]
  },
  {
   "cell_type": "markdown",
   "metadata": {},
   "source": [
    "<h1>Extracting and Visualizing Stock Data</h1>\n",
    "<h2>Description</h2>\n"
   ]
  },
  {
   "cell_type": "markdown",
   "metadata": {},
   "source": [
    "Extracting essential data from a dataset and displaying it is a necessary part of data science; therefore individuals can make correct decisions based on the data. In this assignment, you will extract some stock data, you will then display this data in a graph.\n"
   ]
  },
  {
   "cell_type": "markdown",
   "metadata": {},
   "source": [
    "<h2>Table of Contents</h2>\n",
    "<div class=\"alert alert-block alert-info\" style=\"margin-top: 20px\">\n",
    "    <ul>\n",
    "        <li>Define a Function that Makes a Graph</li>\n",
    "        <li>Question 1: Use yfinance to Extract Stock Data</li>\n",
    "        <li>Question 2: Use Webscraping to Extract Tesla Revenue Data</li>\n",
    "        <li>Question 3: Use yfinance to Extract Stock Data</li>\n",
    "        <li>Question 4: Use Webscraping to Extract GME Revenue Data</li>\n",
    "        <li>Question 5: Plot Tesla Stock Graph</li>\n",
    "        <li>Question 6: Plot GameStop Stock Graph</li>\n",
    "    </ul>\n",
    "<p>\n",
    "    Estimated Time Needed: <strong>30 min</strong></p>\n",
    "</div>\n",
    "\n",
    "<hr>\n"
   ]
  },
  {
   "cell_type": "markdown",
   "metadata": {},
   "source": [
    "***Note***:- If you are working Locally using anaconda, please uncomment the following code and execute it.\n",
    "Use the version as per your python version.\n"
   ]
  },
  {
   "cell_type": "code",
   "execution_count": 51,
   "metadata": {},
   "outputs": [
    {
     "name": "stdout",
     "output_type": "stream",
     "text": [
      "Collecting yfinance==0.1.67\n",
      "  Downloading yfinance-0.1.67-py2.py3-none-any.whl.metadata (10 kB)\n",
      "Requirement already satisfied: pandas>=0.24 in /opt/conda/lib/python3.12/site-packages (from yfinance==0.1.67) (2.3.3)\n",
      "Requirement already satisfied: numpy>=1.15 in /opt/conda/lib/python3.12/site-packages (from yfinance==0.1.67) (2.3.3)\n",
      "Requirement already satisfied: requests>=2.20 in /opt/conda/lib/python3.12/site-packages (from yfinance==0.1.67) (2.32.3)\n",
      "Requirement already satisfied: multitasking>=0.0.7 in /opt/conda/lib/python3.12/site-packages (from yfinance==0.1.67) (0.0.12)\n",
      "Collecting lxml>=4.5.1 (from yfinance==0.1.67)\n",
      "  Downloading lxml-6.0.2-cp312-cp312-manylinux_2_26_x86_64.manylinux_2_28_x86_64.whl.metadata (3.6 kB)\n",
      "Requirement already satisfied: python-dateutil>=2.8.2 in /opt/conda/lib/python3.12/site-packages (from pandas>=0.24->yfinance==0.1.67) (2.9.0.post0)\n",
      "Requirement already satisfied: pytz>=2020.1 in /opt/conda/lib/python3.12/site-packages (from pandas>=0.24->yfinance==0.1.67) (2024.2)\n",
      "Requirement already satisfied: tzdata>=2022.7 in /opt/conda/lib/python3.12/site-packages (from pandas>=0.24->yfinance==0.1.67) (2025.2)\n",
      "Requirement already satisfied: charset_normalizer<4,>=2 in /opt/conda/lib/python3.12/site-packages (from requests>=2.20->yfinance==0.1.67) (3.4.1)\n",
      "Requirement already satisfied: idna<4,>=2.5 in /opt/conda/lib/python3.12/site-packages (from requests>=2.20->yfinance==0.1.67) (3.10)\n",
      "Requirement already satisfied: urllib3<3,>=1.21.1 in /opt/conda/lib/python3.12/site-packages (from requests>=2.20->yfinance==0.1.67) (2.3.0)\n",
      "Requirement already satisfied: certifi>=2017.4.17 in /opt/conda/lib/python3.12/site-packages (from requests>=2.20->yfinance==0.1.67) (2024.12.14)\n",
      "Requirement already satisfied: six>=1.5 in /opt/conda/lib/python3.12/site-packages (from python-dateutil>=2.8.2->pandas>=0.24->yfinance==0.1.67) (1.17.0)\n",
      "Downloading yfinance-0.1.67-py2.py3-none-any.whl (25 kB)\n",
      "Downloading lxml-6.0.2-cp312-cp312-manylinux_2_26_x86_64.manylinux_2_28_x86_64.whl (5.3 MB)\n",
      "\u001b[2K   \u001b[90m━━━━━━━━━━━━━━━━━━━━━━━━━━━━━━━━━━━━━━━━\u001b[0m \u001b[32m5.3/5.3 MB\u001b[0m \u001b[31m107.8 MB/s\u001b[0m eta \u001b[36m0:00:00\u001b[0m\n",
      "Installing collected packages: lxml, yfinance\n",
      "  Attempting uninstall: yfinance\n",
      "    Found existing installation: yfinance 0.2.66\n",
      "    Uninstalling yfinance-0.2.66:\n",
      "      Successfully uninstalled yfinance-0.2.66\n",
      "Successfully installed lxml-6.0.2 yfinance-0.1.67\n",
      "\u001b[?25l\u001b[2K\u001b[0G\u001b[?25h\u001b[?25l\u001b[2K\u001b[0G[+] 0.0s\n",
      "\u001b[2K\u001b[1A\u001b[2K\u001b[0G[+] 0.1s\n",
      "conda-forge/linux-64 ━━━━━━━━━━━━━━━━━━━━━━━  14.1kB /  47.4MB @ 259.7kB/s  0.0s\n",
      "\u001b[2K\u001b[1A\u001b[2K\u001b[1A\u001b[2K\u001b[0G[+] 0.2s━━━━━━━━━━╸━   0.0 B /  ??.?MB @  ??.?MB/s  0.0s\n",
      "conda-forge/linux-64 ━╸━━━━━━━━━━━━━━━━━━━━━   5.8MB /  47.4MB @  36.8MB/s  0.1s\n",
      "\u001b[2K\u001b[1A\u001b[2K\u001b[1A\u001b[2K\u001b[0G[+] 0.3s━━━━━━━━━━━━   3.5MB /  22.6MB @  22.1MB/s  0.1s\n",
      "conda-forge/linux-64 ━━━━╸━━━━━━━━━━━━━━━━━━  10.7MB /  47.4MB @  41.3MB/s  0.2s\n",
      "\u001b[2K\u001b[1A\u001b[2K\u001b[1A\u001b[2K\u001b[0G[+] 0.4s━━━━━━━━━━━━   8.5MB /  22.6MB @  32.6MB/s  0.2s\n",
      "conda-forge/linux-64 ━━━━━━╸━━━━━━━━━━━━━━━━  15.5MB /  47.4MB @  42.8MB/s  0.3s\n",
      "\u001b[2K\u001b[1A\u001b[2K\u001b[1A\u001b[2K\u001b[0G[+] 0.5s━╸━━━━━━━━━━  13.3MB /  22.6MB @  36.5MB/s  0.3s\n",
      "conda-forge/linux-64 ━━━━━━━━╸━━━━━━━━━━━━━━  20.5MB /  47.4MB @  44.2MB/s  0.4s\n",
      "\u001b[2K\u001b[1A\u001b[2K\u001b[1A\u001b[2K\u001b[0G[+] 0.6s━━━━━━╸━━━━━  18.4MB /  22.6MB @  39.2MB/s  0.4s\n",
      "conda-forge/linux-64 ━━━━━━━━━━╸━━━━━━━━━━━━  23.1MB /  47.4MB @  45.0MB/s  0.5s\n",
      "\u001b[2K\u001b[1A\u001b[2K\u001b[1A\u001b[2K\u001b[0Gconda-forge/noarch                                  22.6MB @  40.7MB/s  0.6s\n",
      "[+] 0.7s\n",
      "\u001b[2K\u001b[1A\u001b[2K\u001b[0G[+] 0.8s━━━━━━━━━━╸━━━━━━━━━  29.9MB /  47.4MB @  43.8MB/s  0.6s\n",
      "\u001b[2K\u001b[1A\u001b[2K\u001b[0G[+] 0.9s━━━━━━━━━━━━━━━╸━━━━  39.5MB /  47.4MB @  50.3MB/s  0.7s\n",
      "\u001b[2K\u001b[1A\u001b[2K\u001b[0G[+] 1.0s━━━━━━━━━━━━━━━━━╸━━  44.1MB /  47.4MB @  52.7MB/s  0.8s\n",
      "\u001b[2K\u001b[1A\u001b[2K\u001b[0G[+] 1.1s━━━━━━━━━━━━━━━━━╸━━  44.1MB /  47.4MB @  52.7MB/s  0.9s\n",
      "\u001b[2K\u001b[1A\u001b[2K\u001b[0G[+] 1.2s━━━━━━━━━━━━━━━━━╸━━  44.1MB /  47.4MB @  52.7MB/s  1.0s\n",
      "\u001b[2K\u001b[1A\u001b[2K\u001b[0G[+] 1.3s━━━━━━━━━━━━━━━━━╸━━  44.1MB /  47.4MB @  52.7MB/s  1.1s\n",
      "\u001b[2K\u001b[1A\u001b[2K\u001b[0G[+] 1.4s━━━━━━━━━━━━━━━━━╸━━  44.1MB /  47.4MB @  52.7MB/s  1.2s\n",
      "\u001b[2K\u001b[1A\u001b[2K\u001b[0G[+] 1.5s━━━━━━━━━━━━━━━━━╸━━  44.1MB /  47.4MB @  52.7MB/s  1.3s\n",
      "\u001b[2K\u001b[1A\u001b[2K\u001b[0G[+] 1.6s━━━━━━━━━━━━━━━━━╸━━  44.1MB /  47.4MB @  52.7MB/s  1.4s\n",
      "\u001b[2K\u001b[1A\u001b[2K\u001b[0G[+] 1.7s━━━━━━━━━━━━━━━━━╸━━  44.1MB /  47.4MB @  52.7MB/s  1.5s\n",
      "\u001b[2K\u001b[1A\u001b[2K\u001b[0G[+] 1.8s━━━━━━━━━━━━━━━━━╸━━  44.1MB /  47.4MB @  52.7MB/s  1.6s\n",
      "\u001b[2K\u001b[1A\u001b[2K\u001b[0G[+] 1.9s━━━━━━━━━━━━━━━━━╸━━  44.1MB /  47.4MB @  52.7MB/s  1.7s\n",
      "\u001b[2K\u001b[1A\u001b[2K\u001b[0G[+] 2.0s━━━━━━━━━━━━━━━━━╸━━  44.1MB /  47.4MB @  52.7MB/s  1.8s\n",
      "\u001b[2K\u001b[1A\u001b[2K\u001b[0G[+] 2.1s━━━━━━━━━━━━━━━━━╸━━  44.1MB /  47.4MB @  52.7MB/s  1.9s\n",
      "\u001b[2K\u001b[1A\u001b[2K\u001b[0G[+] 2.2s━━━━━━━━━━━━━━━━━╸━━  44.1MB /  47.4MB @  52.7MB/s  2.0s\n",
      "\u001b[2K\u001b[1A\u001b[2K\u001b[0G[+] 2.3s━━━━━━━━━━━━━━━━━╸━━  44.1MB /  47.4MB @  52.7MB/s  2.1s\n",
      "\u001b[2K\u001b[1A\u001b[2K\u001b[0G[+] 2.4s━━━━━━━━━━━━━━━━━╸━━  44.1MB /  47.4MB @  52.7MB/s  2.2s\n",
      "\u001b[2K\u001b[1A\u001b[2K\u001b[0G[+] 2.5s━━━━━━━━━━━━━━━━━╸━━  44.1MB /  47.4MB @  52.7MB/s  2.3s\n",
      "\u001b[2K\u001b[1A\u001b[2K\u001b[0G[+] 2.6s━━━━━━━━━━━━━━━━━╸━━  44.1MB /  47.4MB @  52.7MB/s  2.4s\n",
      "\u001b[2K\u001b[1A\u001b[2K\u001b[0G[+] 2.7s━━━━━━━━━━━━━━━━━╸━━  44.1MB /  47.4MB @  52.7MB/s  2.5s\n",
      "\u001b[2K\u001b[1A\u001b[2K\u001b[0G[+] 2.8s━━━━━━━━━━━━━━━━━╸━━  44.1MB /  47.4MB @  52.7MB/s  2.6s\n",
      "\u001b[2K\u001b[1A\u001b[2K\u001b[0G[+] 2.9s━━━━━━━━━━━━━━━━━╸━━  44.1MB /  47.4MB @  52.7MB/s  2.7s\n",
      "\u001b[2K\u001b[1A\u001b[2K\u001b[0G[+] 3.0s━━━━━━━━━━━━━━━━━╸━━  44.1MB /  47.4MB @  52.7MB/s  2.8s\n",
      "\u001b[2K\u001b[1A\u001b[2K\u001b[0G[+] 3.1s━━━━━━━━━━━━━━━━━╸━━  44.1MB /  47.4MB @  52.7MB/s  2.9s\n",
      "\u001b[2K\u001b[1A\u001b[2K\u001b[0G[+] 3.2s━━━━━━━━━━━━━━━━━╸━━  44.1MB /  47.4MB @  52.7MB/s  3.0s\n",
      "\u001b[2K\u001b[1A\u001b[2K\u001b[0G[+] 3.3s━━━━━━━━━━━━━━━━━╸━━  44.1MB /  47.4MB @  52.7MB/s  3.1s\n",
      "\u001b[2K\u001b[1A\u001b[2K\u001b[0G[+] 3.4s━━━━━━━━━━━━━━━━━╸━━  44.1MB /  47.4MB @  52.7MB/s  3.2s\n",
      "\u001b[2K\u001b[1A\u001b[2K\u001b[0G[+] 3.5s━━━━━━━━━━━━━━━━━╸━━  44.1MB /  47.4MB @  52.7MB/s  3.3s\n",
      "\u001b[2K\u001b[1A\u001b[2K\u001b[0G[+] 3.6s━━━━━━━━━━━━━━━━━╸━━  44.1MB /  47.4MB @  52.7MB/s  3.4s\n",
      "\u001b[2K\u001b[1A\u001b[2K\u001b[0G[+] 3.7s━━━━━━━━━━━━━━━━━╸━━  44.1MB /  47.4MB @  52.7MB/s  3.5s\n",
      "\u001b[2K\u001b[1A\u001b[2K\u001b[0G[+] 3.8s━━━━━━━━━━━━━━━━━╸━━  44.1MB /  47.4MB @  52.7MB/s  3.6s\n",
      "\u001b[2K\u001b[1A\u001b[2K\u001b[0G[+] 3.9s━━━━━━━━━━━━━━━━━╸━━  44.1MB /  47.4MB @  52.7MB/s  3.7s\n",
      "\u001b[2K\u001b[1A\u001b[2K\u001b[0G[+] 4.0s━━━━━━━━━━━━━━━━━╸━━  44.1MB /  47.4MB @  52.7MB/s  3.8s\n",
      "\u001b[2K\u001b[1A\u001b[2K\u001b[0G[+] 4.1s━━━━━━━━━━━━━━━━━╸━━  44.1MB /  47.4MB @  52.7MB/s  3.9s\n",
      "\u001b[2K\u001b[1A\u001b[2K\u001b[0G[+] 4.2s━━━━━━━━━━━━━━━━━╸━━  44.1MB /  47.4MB @  52.7MB/s  4.0s\n",
      "\u001b[2K\u001b[1A\u001b[2K\u001b[0G[+] 4.3s━━━━━━━━━━━━━━━━━╸━━  44.1MB /  47.4MB @  52.7MB/s  4.1s\n",
      "\u001b[2K\u001b[1A\u001b[2K\u001b[0G[+] 4.4s━━━━━━━━━━━━━━━━━╸━━  44.1MB /  47.4MB @  52.7MB/s  4.2s\n",
      "\u001b[2K\u001b[1A\u001b[2K\u001b[0G[+] 4.5s━━━━━━━━━━━━━━━━━╸━━  44.1MB /  47.4MB @  52.7MB/s  4.3s\n",
      "\u001b[2K\u001b[1A\u001b[2K\u001b[0G[+] 4.6s━━━━━━━━━━━━━━━━━╸━━  44.1MB /  47.4MB @  52.7MB/s  4.4s\n",
      "\u001b[2K\u001b[1A\u001b[2K\u001b[0G[+] 4.7s━━━━━━━━━━━━━━━━━╸━━  44.1MB /  47.4MB @  52.7MB/s  4.5s\n",
      "\u001b[2K\u001b[1A\u001b[2K\u001b[0G[+] 4.8s━━━━━━━━━━━━━━━━━╸━━  44.1MB /  47.4MB @  52.7MB/s  4.6s\n",
      "\u001b[2K\u001b[1A\u001b[2K\u001b[0G[+] 4.9s━━━━━━━━━━━━━━━━━╸━━  44.1MB /  47.4MB @  52.7MB/s  4.7s\n",
      "\u001b[2K\u001b[1A\u001b[2K\u001b[0G[+] 5.0s━━━━━━━━━━━━━━━━━╸━━  44.1MB /  47.4MB @  52.7MB/s  4.8s\n",
      "\u001b[2K\u001b[1A\u001b[2K\u001b[0G[+] 5.1s━━━━━━━━━━━━━━━━━╸━━  44.1MB /  47.4MB @  52.7MB/s  4.9s\n",
      "\u001b[2K\u001b[1A\u001b[2K\u001b[0G[+] 5.2s━━━━━━━━━━━━━━━━━╸━━  44.1MB /  47.4MB @  52.7MB/s  5.0s\n",
      "\u001b[2K\u001b[1A\u001b[2K\u001b[0G[+] 5.3s━━━━━━━━━━━━━━━━━╸━━  44.1MB /  47.4MB @  52.7MB/s  5.1s\n",
      "\u001b[2K\u001b[1A\u001b[2K\u001b[0G[+] 5.4s━━━━━━━━━━━━━━━━━╸━━  44.1MB /  47.4MB @  52.7MB/s  5.2s\n",
      "\u001b[2K\u001b[1A\u001b[2K\u001b[0G[+] 5.5s━━━━━━━━━━━━━━━━━╸━━  44.1MB /  47.4MB @  52.7MB/s  5.3s\n",
      "\u001b[2K\u001b[1A\u001b[2K\u001b[0G[+] 5.6s━━━━━━━━━━━━━━━━━╸━━  44.1MB /  47.4MB @  52.7MB/s  5.4s\n",
      "\u001b[2K\u001b[1A\u001b[2K\u001b[0G[+] 5.7s━━━━━━━━━━━━━━━━━╸━━  44.1MB /  47.4MB @  52.7MB/s  5.5s\n",
      "\u001b[2K\u001b[1A\u001b[2K\u001b[0G[+] 5.8s━━━━━━━━━━━━━━━━━╸━━  44.1MB /  47.4MB @  52.7MB/s  5.6s\n",
      "\u001b[2K\u001b[1A\u001b[2K\u001b[0G[+] 5.9s━━━━━━━━━━━━━━━━━╸━━  44.1MB /  47.4MB @  52.7MB/s  5.7s\n",
      "\u001b[2K\u001b[1A\u001b[2K\u001b[0G[+] 6.0s━━━━━━━━━━━━━━━━━╸━━  44.1MB /  47.4MB @  52.7MB/s  5.8s\n",
      "\u001b[2K\u001b[1A\u001b[2K\u001b[0G[+] 6.1s━━━━━━━━━━━━━━━━━╸━━  44.1MB /  47.4MB @  52.7MB/s  5.9s\n",
      "\u001b[2K\u001b[1A\u001b[2K\u001b[0G[+] 6.2s━━━━━━━━━━━━━━━━━╸━━  44.1MB /  47.4MB @  52.7MB/s  6.0s\n",
      "\u001b[2K\u001b[1A\u001b[2K\u001b[0G[+] 6.3s━━━━━━━━━━━━━━━━━╸━━  44.1MB /  47.4MB @  52.7MB/s  6.1s\n",
      "\u001b[2K\u001b[1A\u001b[2K\u001b[0G[+] 6.4s━━━━━━━━━━━━━━━━━╸━━  44.1MB /  47.4MB @  52.7MB/s  6.2s\n",
      "\u001b[2K\u001b[1A\u001b[2K\u001b[0G[+] 6.5s━━━━━━━━━━━━━━━━━╸━━  44.1MB /  47.4MB @  52.7MB/s  6.3s\n",
      "\u001b[2K\u001b[1A\u001b[2K\u001b[0G[+] 6.6s━━━━━━━━━━━━━━━━━╸━━  44.1MB /  47.4MB @  52.7MB/s  6.4s\n",
      "\u001b[2K\u001b[1A\u001b[2K\u001b[0G[+] 6.7s━━━━━━━━━━━━━━━━━╸━━  44.1MB /  47.4MB @  52.7MB/s  6.5s\n",
      "\u001b[2K\u001b[1A\u001b[2K\u001b[0G[+] 6.8s━━━━━━━━━━━━━━━━━╸━━  44.1MB /  47.4MB @  52.7MB/s  6.6s\n",
      "\u001b[2K\u001b[1A\u001b[2K\u001b[0G[+] 6.9s━━━━━━━━━━━━━━━━━╸━━  44.1MB /  47.4MB @  52.7MB/s  6.7s\n",
      "\u001b[2K\u001b[1A\u001b[2K\u001b[0G[+] 7.0s━━━━━━━━━━━━━━━━━╸━━  44.1MB /  47.4MB @  52.7MB/s  6.8s\n",
      "\u001b[2K\u001b[1A\u001b[2K\u001b[0G[+] 7.1s━━━━━━━━━━━━━━━━━╸━━  44.1MB /  47.4MB @  52.7MB/s  6.9s\n",
      "\u001b[2K\u001b[1A\u001b[2K\u001b[0G[+] 7.2s━━━━━━━━━━━━━━━━━╸━━  44.1MB /  47.4MB @  52.7MB/s  7.0s\n",
      "\u001b[2K\u001b[1A\u001b[2K\u001b[0G[+] 7.3s━━━━━━━━━━━━━━━━━╸━━  44.1MB /  47.4MB @  52.7MB/s  7.1s\n",
      "\u001b[2K\u001b[1A\u001b[2K\u001b[0G[+] 7.4s━━━━━━━━━━━━━━━━━╸━━  44.1MB /  47.4MB @  52.7MB/s  7.2s\n",
      "\u001b[2K\u001b[1A\u001b[2K\u001b[0G[+] 7.5s━━━━━━━━━━━━━━━━━╸━━  44.1MB /  47.4MB @  52.7MB/s  7.3s\n",
      "\u001b[2K\u001b[1A\u001b[2K\u001b[0G[+] 7.6s━━━━━━━━━━━━━━━━━╸━━  44.1MB /  47.4MB @  52.7MB/s  7.4s\n",
      "\u001b[2K\u001b[1A\u001b[2K\u001b[0G[+] 7.7s━━━━━━━━━━━━━━━━━╸━━  44.1MB /  47.4MB @  52.7MB/s  7.5s\n",
      "\u001b[2K\u001b[1A\u001b[2K\u001b[0G[+] 7.8s━━━━━━━━━━━━━━━━━╸━━  44.1MB /  47.4MB @  52.7MB/s  7.6s\n",
      "\u001b[2K\u001b[1A\u001b[2K\u001b[0G[+] 7.9s━━━━━━━━━━━━━━━━━╸━━  44.1MB /  47.4MB @  52.7MB/s  7.7s\n",
      "\u001b[2K\u001b[1A\u001b[2K\u001b[0G[+] 8.0s━━━━━━━━━━━━━━━━━╸━━  44.1MB /  47.4MB @  52.7MB/s  7.8s\n",
      "\u001b[2K\u001b[1A\u001b[2K\u001b[0G[+] 8.1s━━━━━━━━━━━━━━━━━╸━━  44.1MB /  47.4MB @  52.7MB/s  7.9s\n",
      "\u001b[2K\u001b[1A\u001b[2K\u001b[0G[+] 8.2s━━━━━━━━━━━━━━━━━╸━━  44.1MB /  47.4MB @  52.7MB/s  8.0s\n",
      "\u001b[2K\u001b[1A\u001b[2K\u001b[0Gconda-forge/linux-64                                47.4MB @  52.7MB/s  8.2s\n",
      "DEPRECATION: --no-python-version-warning is deprecated. pip 25.1 will enforce this behaviour change. A possible replacement is to remove the flag as it's a no-op. Discussion can be found at https://github.com/pypa/pip/issues/13154\n",
      "\n",
      "Pinned packages:\n",
      "\n",
      "  - python=3.12\n",
      "\n",
      "Pinned packages:\n",
      "\n",
      "  - python=3.12\n",
      "\n",
      "\n",
      "Transaction\n",
      "\n",
      "  Prefix: /opt/conda\n",
      "\n",
      "  Updating specs:\n",
      "\n",
      "   - bs4==4.10.0\n",
      "\n",
      "\n",
      "  Package           Version  Build         Channel          Size\n",
      "──────────────────────────────────────────────────────────────────\n",
      "  Install:\n",
      "──────────────────────────────────────────────────────────────────\n",
      "\n",
      "  \u001b[32m+ bs4           \u001b[0m   4.10.0  hd8ed1ab_0    conda-forge       4kB\n",
      "\n",
      "  Downgrade:\n",
      "──────────────────────────────────────────────────────────────────\n",
      "\n",
      "  \u001b[31m- beautifulsoup4\u001b[0m   4.12.3  pyha770c72_1  conda-forge     118kB\n",
      "  \u001b[32m+ beautifulsoup4\u001b[0m   4.10.0  pyha770c72_0  conda-forge      79kB\n",
      "\n",
      "  Summary:\n",
      "\n",
      "  Install: 1 packages\n",
      "  Downgrade: 1 packages\n",
      "\n",
      "  Total download: 84kB\n",
      "\n",
      "──────────────────────────────────────────────────────────────────\n",
      "\n",
      "\n",
      "\n",
      "Transaction starting\n",
      "\u001b[?25l\u001b[2K\u001b[0G[+] 0.0s\n",
      "Downloading      -\u001b[2m\u001b[3m\u001b[4m\u001b[7m\u001b[38;2;047;058;112m\u001b[48;2;046;049;050m----------------------\u001b[0m   0.0 B                            0.0s\n",
      "\u001b[2K\u001b[1A\u001b[2K\u001b[1A\u001b[2K\u001b[0Gbeautifulsoup4                                      79.2kB @ 219.2kB/s  0.0s\n",
      "bs4                                                  4.3kB @  ??.?MB/s  0.0s\n",
      "[+] 0.1s\n",
      "Downloading      -----------------------  83.5kB                            0.0s\n",
      "\u001b[2K\u001b[1A\u001b[2K\u001b[1A\u001b[2K\u001b[0G\u001b[?25hUnlinking beautifulsoup4-4.12.3-pyha770c72_1----------\u001b[0m----------       0 beautifulsoup4             0.0s\n",
      "Linking beautifulsoup4-4.10.0-pyha770c72_0\n",
      "Linking bs4-4.10.0-hd8ed1ab_0\n",
      "\n",
      "Transaction finished\n",
      "\n",
      "Collecting nbformat==4.2.0\n",
      "  Downloading nbformat-4.2.0-py2.py3-none-any.whl.metadata (1.1 kB)\n",
      "Requirement already satisfied: ipython-genutils in /opt/conda/lib/python3.12/site-packages (from nbformat==4.2.0) (0.2.0)\n",
      "Requirement already satisfied: jsonschema!=2.5.0,>=2.4 in /opt/conda/lib/python3.12/site-packages (from nbformat==4.2.0) (4.23.0)\n",
      "Requirement already satisfied: jupyter-core in /opt/conda/lib/python3.12/site-packages (from nbformat==4.2.0) (5.7.2)\n",
      "Requirement already satisfied: traitlets>=4.1 in /opt/conda/lib/python3.12/site-packages (from nbformat==4.2.0) (5.14.3)\n",
      "Requirement already satisfied: attrs>=22.2.0 in /opt/conda/lib/python3.12/site-packages (from jsonschema!=2.5.0,>=2.4->nbformat==4.2.0) (25.1.0)\n",
      "Requirement already satisfied: jsonschema-specifications>=2023.03.6 in /opt/conda/lib/python3.12/site-packages (from jsonschema!=2.5.0,>=2.4->nbformat==4.2.0) (2024.10.1)\n",
      "Requirement already satisfied: referencing>=0.28.4 in /opt/conda/lib/python3.12/site-packages (from jsonschema!=2.5.0,>=2.4->nbformat==4.2.0) (0.36.2)\n",
      "Requirement already satisfied: rpds-py>=0.7.1 in /opt/conda/lib/python3.12/site-packages (from jsonschema!=2.5.0,>=2.4->nbformat==4.2.0) (0.22.3)\n",
      "Requirement already satisfied: platformdirs>=2.5 in /opt/conda/lib/python3.12/site-packages (from jupyter-core->nbformat==4.2.0) (4.3.6)\n",
      "Requirement already satisfied: typing-extensions>=4.4.0 in /opt/conda/lib/python3.12/site-packages (from referencing>=0.28.4->jsonschema!=2.5.0,>=2.4->nbformat==4.2.0) (4.12.2)\n",
      "Downloading nbformat-4.2.0-py2.py3-none-any.whl (153 kB)\n",
      "Installing collected packages: nbformat\n",
      "  Attempting uninstall: nbformat\n",
      "    Found existing installation: nbformat 5.10.4\n",
      "    Uninstalling nbformat-5.10.4:\n",
      "      Successfully uninstalled nbformat-5.10.4\n",
      "\u001b[31mERROR: pip's dependency resolver does not currently take into account all the packages that are installed. This behaviour is the source of the following dependency conflicts.\n",
      "nbconvert 7.16.5 requires nbformat>=5.7, but you have nbformat 4.2.0 which is incompatible.\n",
      "nbclient 0.10.2 requires nbformat>=5.1, but you have nbformat 4.2.0 which is incompatible.\n",
      "jupyter-server 2.15.0 requires nbformat>=5.3.0, but you have nbformat 4.2.0 which is incompatible.\u001b[0m\u001b[31m\n",
      "\u001b[0mSuccessfully installed nbformat-4.2.0\n"
     ]
    }
   ],
   "source": [
    "!pip install yfinance==0.1.67\n",
    "!mamba install bs4==4.10.0 -y\n",
    "!pip install nbformat==4.2.0"
   ]
  },
  {
   "cell_type": "code",
   "execution_count": 41,
   "metadata": {},
   "outputs": [],
   "source": [
    "import yfinance as yf\n",
    "import pandas as pd\n",
    "import requests\n",
    "from bs4 import BeautifulSoup\n",
    "import plotly.graph_objects as go\n",
    "from plotly.subplots import make_subplots"
   ]
  },
  {
   "cell_type": "code",
   "execution_count": 42,
   "metadata": {},
   "outputs": [],
   "source": [
    "import plotly.io as pio\n",
    "pio.renderers.default = \"iframe\""
   ]
  },
  {
   "cell_type": "markdown",
   "metadata": {},
   "source": [
    "In Python, you can ignore warnings using the warnings module. You can use the filterwarnings function to filter or ignore specific warning messages or categories.\n"
   ]
  },
  {
   "cell_type": "code",
   "execution_count": 43,
   "metadata": {},
   "outputs": [],
   "source": [
    "import warnings\n",
    "# Ignore all warnings\n",
    "warnings.filterwarnings(\"ignore\", category=FutureWarning)"
   ]
  },
  {
   "cell_type": "markdown",
   "metadata": {},
   "source": [
    "## Define Graphing Function\n"
   ]
  },
  {
   "cell_type": "markdown",
   "metadata": {},
   "source": [
    "In this section, we define the function `make_graph`. **You don't have to know how the function works, you should only care about the inputs. It takes a dataframe with stock data (dataframe must contain Date and Close columns), a dataframe with revenue data (dataframe must contain Date and Revenue columns), and the name of the stock.**\n"
   ]
  },
  {
   "cell_type": "code",
   "execution_count": 61,
   "metadata": {},
   "outputs": [],
   "source": [
    "def make_graph(stock_data, revenue_data, stock):\n",
    "    fig = make_subplots(rows=2, cols=1, shared_xaxes=True, subplot_titles=(\"Historical Share Price\", \"Historical Revenue\"), vertical_spacing = .3)\n",
    "    stock_data_specific = stock_data[stock_data.Date <= '2021--06-14']\n",
    "    revenue_data_specific = revenue_data[revenue_data.Date <= '2021-04-30']\n",
    "    fig.add_trace(go.Scatter(x=pd.to_datetime(stock_data_specific.Date, infer_datetime_format=True), y=stock_data_specific.Close.astype(\"float\"), name=\"Share Price\"), row=1, col=1)\n",
    "    fig.add_trace(go.Scatter(x=pd.to_datetime(revenue_data_specific.Date, infer_datetime_format=True), y=revenue_data_specific.Revenue.astype(\"float\"), name=\"Revenue\"), row=2, col=1)\n",
    "    fig.update_xaxes(title_text=\"Date\", row=1, col=1)\n",
    "    fig.update_xaxes(title_text=\"Date\", row=2, col=1)\n",
    "    fig.update_yaxes(title_text=\"Price ($US)\", row=1, col=1)\n",
    "    fig.update_yaxes(title_text=\"Revenue ($US Millions)\", row=2, col=1)\n",
    "    fig.update_layout(showlegend=False,\n",
    "    height=900,\n",
    "    title=stock,\n",
    "    xaxis_rangeslider_visible=True)\n",
    "    fig.show()"
   ]
  },
  {
   "cell_type": "markdown",
   "metadata": {},
   "source": [
    "Use the make_graph function that we’ve already defined. You’ll need to invoke it in questions 5 and 6 to display the graphs and create the dashboard. \n",
    "> **Note: You don’t need to redefine the function for plotting graphs anywhere else in this notebook; just use the existing function.**\n"
   ]
  },
  {
   "cell_type": "markdown",
   "metadata": {},
   "source": [
    "## Question 1: Use yfinance to Extract Stock Data\n"
   ]
  },
  {
   "cell_type": "markdown",
   "metadata": {},
   "source": [
    "Using the `Ticker` function enter the ticker symbol of the stock we want to extract data on to create a ticker object. The stock is Tesla and its ticker symbol is `TSLA`.\n"
   ]
  },
  {
   "cell_type": "code",
   "execution_count": 62,
   "metadata": {},
   "outputs": [
    {
     "name": "stdout",
     "output_type": "stream",
     "text": [
      "{'address1': '1 Tesla Road', 'city': 'Austin', 'state': 'TX', 'zip': '78725', 'country': 'United States', 'phone': '512 516 8177', 'website': 'https://www.tesla.com', 'industry': 'Auto Manufacturers', 'industryKey': 'auto-manufacturers', 'industryDisp': 'Auto Manufacturers', 'sector': 'Consumer Cyclical', 'sectorKey': 'consumer-cyclical', 'sectorDisp': 'Consumer Cyclical', 'longBusinessSummary': 'Tesla, Inc. designs, develops, manufactures, leases, and sells electric vehicles, and energy generation and storage systems in the United States, China, and internationally. The company operates in two segments, Automotive; and Energy Generation and Storage. The Automotive segment offers electric vehicles, as well as sells automotive regulatory credits; and non-warranty after-sales vehicle, used vehicles, body shop and parts, supercharging, retail merchandise, and vehicle insurance services. This segment also provides sedans and sport utility vehicles through direct and used vehicle sales, a network of Tesla Superchargers, and in-app upgrades; purchase financing and leasing services; services for electric vehicles through its company-owned service locations and Tesla mobile service technicians; and vehicle limited warranties and extended service plans. The Energy Generation and Storage segment engages in the design, manufacture, installation, sale, and leasing of solar energy generation and energy storage products, and related services to residential, commercial, and industrial customers and utilities through its website, stores, and galleries, as well as through a network of channel partners. This segment also provides services and repairs to its energy product customers, including under warranty; and various financing options to its residential customers. The company was formerly known as Tesla Motors, Inc. and changed its name to Tesla, Inc. in February 2017. Tesla, Inc. was incorporated in 2003 and is headquartered in Austin, Texas.', 'fullTimeEmployees': 125665, 'companyOfficers': [{'maxAge': 1, 'name': 'Mr. Elon R. Musk', 'age': 53, 'title': 'Co-Founder, Technoking of Tesla, CEO & Director', 'yearBorn': 1971, 'fiscalYear': 2024, 'exercisedValue': 0, 'unexercisedValue': 0}, {'maxAge': 1, 'name': 'Mr. Vaibhav  Taneja', 'age': 46, 'title': 'Chief Financial Officer', 'yearBorn': 1978, 'fiscalYear': 2024, 'totalPay': 306846, 'exercisedValue': 9653338, 'unexercisedValue': 347210016}, {'maxAge': 1, 'name': 'Mr. Xiaotong  Zhu', 'age': 44, 'title': 'Senior Vice President of APAC & Global Vehicle Manufacturing', 'yearBorn': 1980, 'fiscalYear': 2024, 'totalPay': 518250, 'exercisedValue': 0, 'unexercisedValue': 697024064}, {'maxAge': 1, 'name': 'Travis  Axelrod', 'title': 'Head of Investor Relations', 'fiscalYear': 2024, 'exercisedValue': 0, 'unexercisedValue': 0}, {'maxAge': 1, 'name': 'Mr. Brandon  Ehrhart', 'title': 'General Counsel & Corporate Secretary', 'fiscalYear': 2024, 'exercisedValue': 0, 'unexercisedValue': 0}, {'maxAge': 1, 'name': 'Mr. Franz  von Holzhausen', 'title': 'Chief Designer', 'fiscalYear': 2024, 'exercisedValue': 0, 'unexercisedValue': 0}, {'maxAge': 1, 'name': 'Mr. John  Walker', 'age': 61, 'title': 'Vice President of Sales - North America', 'yearBorn': 1963, 'fiscalYear': 2024, 'totalPay': 121550, 'exercisedValue': 0, 'unexercisedValue': 0}, {'maxAge': 1, 'name': 'Mr. Rodney D. Westmoreland Jr.', 'title': 'Director of Construction Management', 'fiscalYear': 2024, 'exercisedValue': 0, 'unexercisedValue': 0}, {'maxAge': 1, 'name': 'Mr. Lars  Moravy', 'title': 'Vice President of Vehicle Engineering', 'fiscalYear': 2024, 'exercisedValue': 0, 'unexercisedValue': 0}, {'maxAge': 1, 'name': 'Ashok  Elluswamy', 'title': 'Executive Officer', 'fiscalYear': 2024, 'exercisedValue': 0, 'unexercisedValue': 0}], 'auditRisk': 4, 'boardRisk': 9, 'compensationRisk': 10, 'shareHolderRightsRisk': 9, 'overallRisk': 10, 'governanceEpochDate': 1759276800, 'compensationAsOfEpochDate': 1735603200, 'executiveTeam': [], 'maxAge': 86400, 'priceHint': 2, 'previousClose': 444.72, 'open': 443.74, 'dayLow': 440.76, 'dayHigh': 462.29, 'regularMarketPreviousClose': 444.72, 'regularMarketOpen': 443.74, 'regularMarketDayLow': 440.76, 'regularMarketDayHigh': 462.29, 'payoutRatio': 0.0, 'beta': 2.065, 'trailingPE': 262.54855, 'forwardPE': 141.80864, 'volume': 97116635, 'regularMarketVolume': 97116635, 'averageVolume': 88219950, 'averageVolume10days': 91560820, 'averageDailyVolume10Day': 91560820, 'bid': 459.51, 'ask': 464.98, 'bidSize': 1, 'askSize': 1, 'marketCap': 1527773790208, 'fiftyTwoWeekLow': 212.11, 'fiftyTwoWeekHigh': 488.54, 'allTimeHigh': 488.54, 'allTimeLow': 0.998667, 'priceToSalesTrailing12Months': 16.477285, 'fiftyDayAverage': 356.5582, 'twoHundredDayAverage': 334.95844, 'trailingAnnualDividendRate': 0.0, 'trailingAnnualDividendYield': 0.0, 'currency': 'USD', 'tradeable': False, 'enterpriseValue': 1459074760704, 'profitMargins': 0.063439995, 'floatShares': 2724568931, 'sharesOutstanding': 3325150886, 'sharesShort': 86213226, 'sharesShortPriorMonth': 76710309, 'sharesShortPreviousMonthDate': 1755216000, 'dateShortInterest': 1757894400, 'sharesPercentSharesOut': 0.025899999, 'heldPercentInsiders': 0.12560001, 'heldPercentInstitutions': 0.49394, 'shortRatio': 1.03, 'shortPercentOfFloat': 0.0296, 'impliedSharesOutstanding': 3325150886, 'bookValue': 23.981, 'priceToBook': 19.159334, 'lastFiscalYearEnd': 1735603200, 'nextFiscalYearEnd': 1767139200, 'mostRecentQuarter': 1751241600, 'earningsQuarterlyGrowth': -0.163, 'netIncomeToCommon': 5879000064, 'trailingEps': 1.75, 'forwardEps': 3.24, 'lastSplitFactor': '3:1', 'lastSplitDate': 1661385600, 'enterpriseToRevenue': 15.736, 'enterpriseToEbitda': 127.541, '52WeekChange': 0.8479183, 'SandP52WeekChange': 0.17342639, 'quoteType': 'EQUITY', 'currentPrice': 459.46, 'targetHighPrice': 600.0, 'targetLowPrice': 115.0, 'targetMeanPrice': 345.4979, 'targetMedianPrice': 352.0, 'recommendationMean': 2.53333, 'recommendationKey': 'hold', 'numberOfAnalystOpinions': 38, 'totalCash': 36781998080, 'totalCashPerShare': 11.404, 'ebitda': 11440000000, 'totalDebt': 13134000128, 'quickRatio': 1.359, 'currentRatio': 2.037, 'totalRevenue': 92719996928, 'debtToEquity': 16.823, 'revenuePerShare': 28.862, 'returnOnAssets': 0.0296, 'returnOnEquity': 0.08177, 'grossProfits': 16206999552, 'freeCashflow': 1398375040, 'operatingCashflow': 15765000192, 'earningsGrowth': -0.175, 'revenueGrowth': -0.118, 'grossMargins': 0.1748, 'ebitdaMargins': 0.123380005, 'operatingMargins': 0.04103, 'financialCurrency': 'USD', 'symbol': 'TSLA', 'language': 'en-US', 'region': 'US', 'typeDisp': 'Equity', 'quoteSourceName': 'Nasdaq Real Time Price', 'triggerable': True, 'customPriceAlertConfidence': 'HIGH', 'corporateActions': [], 'postMarketTime': 1759363199, 'regularMarketTime': 1759348800, 'exchange': 'NMS', 'messageBoardId': 'finmb_27444752', 'exchangeTimezoneName': 'America/New_York', 'exchangeTimezoneShortName': 'EDT', 'gmtOffSetMilliseconds': -14400000, 'market': 'us_market', 'esgPopulated': False, 'shortName': 'Tesla, Inc.', 'longName': 'Tesla, Inc.', 'regularMarketChangePercent': 3.31444, 'regularMarketPrice': 459.46, 'marketState': 'POSTPOST', 'twoHundredDayAverageChangePercent': 0.37169257, 'sourceInterval': 15, 'exchangeDataDelayedBy': 0, 'averageAnalystRating': '2.5 - Hold', 'cryptoTradeable': False, 'earningsTimestamp': 1753300800, 'earningsTimestampStart': 1761163200, 'earningsTimestampEnd': 1761163200, 'earningsCallTimestampStart': 1753306200, 'earningsCallTimestampEnd': 1753306200, 'isEarningsDateEstimate': False, 'epsTrailingTwelveMonths': 1.75, 'epsForward': 3.24, 'epsCurrentYear': 1.69863, 'priceEpsCurrentYear': 270.48856, 'fiftyDayAverageChange': 102.901794, 'fiftyDayAverageChangePercent': 0.28859746, 'twoHundredDayAverageChange': 124.50156, 'hasPrePostMarketData': True, 'firstTradeDateMilliseconds': 1277818200000, 'postMarketChangePercent': 0.417885, 'postMarketPrice': 461.38, 'postMarketChange': 1.92001, 'regularMarketChange': 14.74, 'regularMarketDayRange': '440.76 - 462.29', 'fullExchangeName': 'NasdaqGS', 'averageDailyVolume3Month': 88219950, 'fiftyTwoWeekLowChange': 247.34999, 'fiftyTwoWeekLowChangePercent': 1.1661402, 'fiftyTwoWeekRange': '212.11 - 488.54', 'fiftyTwoWeekHighChange': -29.080017, 'fiftyTwoWeekHighChangePercent': -0.05952433, 'fiftyTwoWeekChangePercent': 84.791824, 'displayName': 'Tesla', 'trailingPegRatio': 7.8713}\n"
     ]
    }
   ],
   "source": [
    "import yfinance as yf\n",
    "\n",
    "# Create a Ticker object for TSLA\n",
    "tesla = yf.Ticker(\"TSLA\")\n",
    "\n",
    "# Print information about TSLA's stock\n",
    "print(tesla.info)"
   ]
  },
  {
   "cell_type": "markdown",
   "metadata": {},
   "source": [
    "Using the ticker object and the function `history` extract stock information and save it in a dataframe named `tesla_data`. Set the `period` parameter to ` \"max\" ` so we get information for the maximum amount of time.\n"
   ]
  },
  {
   "cell_type": "code",
   "execution_count": 63,
   "metadata": {},
   "outputs": [
    {
     "name": "stdout",
     "output_type": "stream",
     "text": [
      "                                 Open        High         Low       Close  \\\n",
      "Date                                                                        \n",
      "2010-06-29 00:00:00-04:00    1.266667    1.666667    1.169333    1.592667   \n",
      "2010-06-30 00:00:00-04:00    1.719333    2.028000    1.553333    1.588667   \n",
      "2010-07-01 00:00:00-04:00    1.666667    1.728000    1.351333    1.464000   \n",
      "2010-07-02 00:00:00-04:00    1.533333    1.540000    1.247333    1.280000   \n",
      "2010-07-06 00:00:00-04:00    1.333333    1.333333    1.055333    1.074000   \n",
      "...                               ...         ...         ...         ...   \n",
      "2025-09-25 00:00:00-04:00  435.239990  435.350006  419.079987  423.390015   \n",
      "2025-09-26 00:00:00-04:00  428.299988  440.470001  421.019989  440.399994   \n",
      "2025-09-29 00:00:00-04:00  444.350006  450.980011  439.500000  443.209991   \n",
      "2025-09-30 00:00:00-04:00  441.519989  445.000000  433.119995  444.720001   \n",
      "2025-10-01 00:00:00-04:00  443.799988  462.290009  440.750000  459.459991   \n",
      "\n",
      "                              Volume  Dividends  Stock Splits  \n",
      "Date                                                           \n",
      "2010-06-29 00:00:00-04:00  281494500        0.0           0.0  \n",
      "2010-06-30 00:00:00-04:00  257806500        0.0           0.0  \n",
      "2010-07-01 00:00:00-04:00  123282000        0.0           0.0  \n",
      "2010-07-02 00:00:00-04:00   77097000        0.0           0.0  \n",
      "2010-07-06 00:00:00-04:00  103003500        0.0           0.0  \n",
      "...                              ...        ...           ...  \n",
      "2025-09-25 00:00:00-04:00   96746400        0.0           0.0  \n",
      "2025-09-26 00:00:00-04:00  101628200        0.0           0.0  \n",
      "2025-09-29 00:00:00-04:00   79491500        0.0           0.0  \n",
      "2025-09-30 00:00:00-04:00   74358000        0.0           0.0  \n",
      "2025-10-01 00:00:00-04:00   97617000        0.0           0.0  \n",
      "\n",
      "[3839 rows x 7 columns]\n"
     ]
    }
   ],
   "source": [
    "# Extract stock information and save it to a DataFrame\n",
    "tesla_data = tesla.history(period=\"max\")\n",
    "\n",
    "# Print the Tesla data\n",
    "print(tesla_data)"
   ]
  },
  {
   "cell_type": "markdown",
   "metadata": {},
   "source": [
    "**Reset the index** using the `reset_index(inplace=True)` function on the tesla_data DataFrame and display the first five rows of the `tesla_data` dataframe using the `head` function. Take a screenshot of the results and code from the beginning of Question 1 to the results below.\n"
   ]
  },
  {
   "cell_type": "code",
   "execution_count": 64,
   "metadata": {},
   "outputs": [
    {
     "data": {
      "text/html": [
       "<div>\n",
       "<style scoped>\n",
       "    .dataframe tbody tr th:only-of-type {\n",
       "        vertical-align: middle;\n",
       "    }\n",
       "\n",
       "    .dataframe tbody tr th {\n",
       "        vertical-align: top;\n",
       "    }\n",
       "\n",
       "    .dataframe thead th {\n",
       "        text-align: right;\n",
       "    }\n",
       "</style>\n",
       "<table border=\"1\" class=\"dataframe\">\n",
       "  <thead>\n",
       "    <tr style=\"text-align: right;\">\n",
       "      <th></th>\n",
       "      <th>Date</th>\n",
       "      <th>Open</th>\n",
       "      <th>High</th>\n",
       "      <th>Low</th>\n",
       "      <th>Close</th>\n",
       "      <th>Volume</th>\n",
       "      <th>Dividends</th>\n",
       "      <th>Stock Splits</th>\n",
       "    </tr>\n",
       "  </thead>\n",
       "  <tbody>\n",
       "    <tr>\n",
       "      <th>0</th>\n",
       "      <td>2010-06-29 00:00:00-04:00</td>\n",
       "      <td>1.266667</td>\n",
       "      <td>1.666667</td>\n",
       "      <td>1.169333</td>\n",
       "      <td>1.592667</td>\n",
       "      <td>281494500</td>\n",
       "      <td>0.0</td>\n",
       "      <td>0.0</td>\n",
       "    </tr>\n",
       "    <tr>\n",
       "      <th>1</th>\n",
       "      <td>2010-06-30 00:00:00-04:00</td>\n",
       "      <td>1.719333</td>\n",
       "      <td>2.028000</td>\n",
       "      <td>1.553333</td>\n",
       "      <td>1.588667</td>\n",
       "      <td>257806500</td>\n",
       "      <td>0.0</td>\n",
       "      <td>0.0</td>\n",
       "    </tr>\n",
       "    <tr>\n",
       "      <th>2</th>\n",
       "      <td>2010-07-01 00:00:00-04:00</td>\n",
       "      <td>1.666667</td>\n",
       "      <td>1.728000</td>\n",
       "      <td>1.351333</td>\n",
       "      <td>1.464000</td>\n",
       "      <td>123282000</td>\n",
       "      <td>0.0</td>\n",
       "      <td>0.0</td>\n",
       "    </tr>\n",
       "    <tr>\n",
       "      <th>3</th>\n",
       "      <td>2010-07-02 00:00:00-04:00</td>\n",
       "      <td>1.533333</td>\n",
       "      <td>1.540000</td>\n",
       "      <td>1.247333</td>\n",
       "      <td>1.280000</td>\n",
       "      <td>77097000</td>\n",
       "      <td>0.0</td>\n",
       "      <td>0.0</td>\n",
       "    </tr>\n",
       "    <tr>\n",
       "      <th>4</th>\n",
       "      <td>2010-07-06 00:00:00-04:00</td>\n",
       "      <td>1.333333</td>\n",
       "      <td>1.333333</td>\n",
       "      <td>1.055333</td>\n",
       "      <td>1.074000</td>\n",
       "      <td>103003500</td>\n",
       "      <td>0.0</td>\n",
       "      <td>0.0</td>\n",
       "    </tr>\n",
       "  </tbody>\n",
       "</table>\n",
       "</div>"
      ],
      "text/plain": [
       "                       Date      Open      High       Low     Close  \\\n",
       "0 2010-06-29 00:00:00-04:00  1.266667  1.666667  1.169333  1.592667   \n",
       "1 2010-06-30 00:00:00-04:00  1.719333  2.028000  1.553333  1.588667   \n",
       "2 2010-07-01 00:00:00-04:00  1.666667  1.728000  1.351333  1.464000   \n",
       "3 2010-07-02 00:00:00-04:00  1.533333  1.540000  1.247333  1.280000   \n",
       "4 2010-07-06 00:00:00-04:00  1.333333  1.333333  1.055333  1.074000   \n",
       "\n",
       "      Volume  Dividends  Stock Splits  \n",
       "0  281494500        0.0           0.0  \n",
       "1  257806500        0.0           0.0  \n",
       "2  123282000        0.0           0.0  \n",
       "3   77097000        0.0           0.0  \n",
       "4  103003500        0.0           0.0  "
      ]
     },
     "execution_count": 64,
     "metadata": {},
     "output_type": "execute_result"
    }
   ],
   "source": [
    "tesla_data.reset_index(inplace=True)\n",
    "tesla_data.head()"
   ]
  },
  {
   "cell_type": "markdown",
   "metadata": {
    "jupyter": {
     "source_hidden": true
    }
   },
   "source": [
    "## Question 2: Use Webscraping to Extract Tesla Revenue Data\n"
   ]
  },
  {
   "cell_type": "markdown",
   "metadata": {},
   "source": [
    "Use the `requests` library to download the webpage https://cf-courses-data.s3.us.cloud-object-storage.appdomain.cloud/IBMDeveloperSkillsNetwork-PY0220EN-SkillsNetwork/labs/project/revenue.htm Save the text of the response as a variable named `html_data`.\n"
   ]
  },
  {
   "cell_type": "code",
   "execution_count": 65,
   "metadata": {},
   "outputs": [],
   "source": [
    "url =\"https://cf-courses-data.s3.us.cloud-object-storage.appdomain.cloud/IBMDeveloperSkillsNetwork-PY0220EN-SkillsNetwork/labs/project/revenue.htm\"\n",
    "html_data = requests.get(url).text"
   ]
  },
  {
   "cell_type": "markdown",
   "metadata": {},
   "source": [
    "Parse the html data using `beautiful_soup` using parser i.e `html5lib` or `html.parser`.\n"
   ]
  },
  {
   "cell_type": "code",
   "execution_count": 83,
   "metadata": {},
   "outputs": [],
   "source": [
    "beautiful_soup = BeautifulSoup(html_data, \"html.parser\")"
   ]
  },
  {
   "cell_type": "markdown",
   "metadata": {},
   "source": [
    "Using `BeautifulSoup` or the `read_html` function extract the table with `Tesla Revenue` and store it into a dataframe named `tesla_revenue`. The dataframe should have columns `Date` and `Revenue`.\n"
   ]
  },
  {
   "cell_type": "markdown",
   "metadata": {},
   "source": [
    "<details><summary>Step-by-step instructions</summary>\n",
    "\n",
    "```\n",
    "\n",
    "Here are the step-by-step instructions:\n",
    "\n",
    "1. Create an Empty DataFrame\n",
    "2. Find the Relevant Table\n",
    "3. Check for the Tesla Quarterly Revenue Table\n",
    "4. Iterate Through Rows in the Table Body\n",
    "5. Extract Data from Columns\n",
    "6. Append Data to the DataFrame\n",
    "\n",
    "```\n",
    "</details>\n"
   ]
  },
  {
   "cell_type": "markdown",
   "metadata": {},
   "source": [
    "<details><summary>Click here if you need help locating the table</summary>\n",
    "\n",
    "```\n",
    "    \n",
    "Below is the code to isolate the table, you will now need to loop through the rows and columns like in the previous lab\n",
    "    \n",
    "soup.find_all(\"tbody\")[1]\n",
    "    \n",
    "If you want to use the read_html function the table is located at index 1\n",
    "\n",
    "We are focusing on quarterly revenue in the lab.\n",
    "```\n",
    "\n",
    "</details>\n"
   ]
  },
  {
   "cell_type": "code",
   "execution_count": 84,
   "metadata": {},
   "outputs": [
    {
     "data": {
      "text/plain": [
       "[<title>Tesla Revenue 2010-2022 | TSLA | MacroTrends</title>]"
      ]
     },
     "execution_count": 84,
     "metadata": {},
     "output_type": "execute_result"
    }
   ],
   "source": [
    "soup = BeautifulSoup(html_data, \"html.parser\")\n",
    "soup.find_all('title')"
   ]
  },
  {
   "cell_type": "markdown",
   "metadata": {},
   "source": [
    "Execute the following line to remove the comma and dollar sign from the `Revenue` column. \n"
   ]
  },
  {
   "cell_type": "code",
   "execution_count": 87,
   "metadata": {},
   "outputs": [],
   "source": [
    "tesla_revenue = pd.DataFrame(columns = ['Date', 'Revenue'])"
   ]
  },
  {
   "cell_type": "markdown",
   "metadata": {},
   "source": [
    "Execute the following lines to remove an null or empty strings in the Revenue column.\n"
   ]
  },
  {
   "cell_type": "code",
   "execution_count": 88,
   "metadata": {},
   "outputs": [],
   "source": [
    "tesla_revenue.dropna(inplace=True)\n",
    "\n",
    "tesla_revenue = tesla_revenue[tesla_revenue['Revenue'] != \"\"]"
   ]
  },
  {
   "cell_type": "markdown",
   "metadata": {},
   "source": [
    "Display the last 5 row of the `tesla_revenue` dataframe using the `tail` function. Take a screenshot of the results.\n"
   ]
  },
  {
   "cell_type": "code",
   "execution_count": 89,
   "metadata": {},
   "outputs": [
    {
     "data": {
      "text/html": [
       "<div>\n",
       "<style scoped>\n",
       "    .dataframe tbody tr th:only-of-type {\n",
       "        vertical-align: middle;\n",
       "    }\n",
       "\n",
       "    .dataframe tbody tr th {\n",
       "        vertical-align: top;\n",
       "    }\n",
       "\n",
       "    .dataframe thead th {\n",
       "        text-align: right;\n",
       "    }\n",
       "</style>\n",
       "<table border=\"1\" class=\"dataframe\">\n",
       "  <thead>\n",
       "    <tr style=\"text-align: right;\">\n",
       "      <th></th>\n",
       "      <th>Date</th>\n",
       "      <th>Revenue</th>\n",
       "    </tr>\n",
       "  </thead>\n",
       "  <tbody>\n",
       "  </tbody>\n",
       "</table>\n",
       "</div>"
      ],
      "text/plain": [
       "Empty DataFrame\n",
       "Columns: [Date, Revenue]\n",
       "Index: []"
      ]
     },
     "execution_count": 89,
     "metadata": {},
     "output_type": "execute_result"
    }
   ],
   "source": [
    "tesla_revenue.dropna(inplace=True)\n",
    "tesla_revenue.tail()"
   ]
  },
  {
   "cell_type": "markdown",
   "metadata": {},
   "source": [
    "## Question 3: Use yfinance to Extract Stock Data\n"
   ]
  },
  {
   "cell_type": "markdown",
   "metadata": {},
   "source": [
    "Using the `Ticker` function enter the ticker symbol of the stock we want to extract data on to create a ticker object. The stock is GameStop and its ticker symbol is `GME`.\n"
   ]
  },
  {
   "cell_type": "code",
   "execution_count": 90,
   "metadata": {},
   "outputs": [],
   "source": [
    "gamestop = yf.Ticker(\"GME\")"
   ]
  },
  {
   "cell_type": "markdown",
   "metadata": {},
   "source": [
    "Using the ticker object and the function `history` extract stock information and save it in a dataframe named `gme_data`. Set the `period` parameter to ` \"max\" ` so we get information for the maximum amount of time.\n"
   ]
  },
  {
   "cell_type": "code",
   "execution_count": 91,
   "metadata": {},
   "outputs": [],
   "source": [
    "gme_data=gamestop.history(period=\"max\")"
   ]
  },
  {
   "cell_type": "markdown",
   "metadata": {},
   "source": [
    "**Reset the index** using the `reset_index(inplace=True)` function on the gme_data DataFrame and display the first five rows of the `gme_data` dataframe using the `head` function. Take a screenshot of the results and code from the beginning of Question 3 to the results below.\n"
   ]
  },
  {
   "cell_type": "code",
   "execution_count": 92,
   "metadata": {},
   "outputs": [
    {
     "data": {
      "text/html": [
       "<div>\n",
       "<style scoped>\n",
       "    .dataframe tbody tr th:only-of-type {\n",
       "        vertical-align: middle;\n",
       "    }\n",
       "\n",
       "    .dataframe tbody tr th {\n",
       "        vertical-align: top;\n",
       "    }\n",
       "\n",
       "    .dataframe thead th {\n",
       "        text-align: right;\n",
       "    }\n",
       "</style>\n",
       "<table border=\"1\" class=\"dataframe\">\n",
       "  <thead>\n",
       "    <tr style=\"text-align: right;\">\n",
       "      <th></th>\n",
       "      <th>Date</th>\n",
       "      <th>Open</th>\n",
       "      <th>High</th>\n",
       "      <th>Low</th>\n",
       "      <th>Close</th>\n",
       "      <th>Volume</th>\n",
       "      <th>Dividends</th>\n",
       "      <th>Stock Splits</th>\n",
       "    </tr>\n",
       "  </thead>\n",
       "  <tbody>\n",
       "    <tr>\n",
       "      <th>0</th>\n",
       "      <td>2002-02-13 00:00:00-05:00</td>\n",
       "      <td>1.620128</td>\n",
       "      <td>1.693350</td>\n",
       "      <td>1.603296</td>\n",
       "      <td>1.691666</td>\n",
       "      <td>76216000</td>\n",
       "      <td>0.0</td>\n",
       "      <td>0.0</td>\n",
       "    </tr>\n",
       "    <tr>\n",
       "      <th>1</th>\n",
       "      <td>2002-02-14 00:00:00-05:00</td>\n",
       "      <td>1.712708</td>\n",
       "      <td>1.716074</td>\n",
       "      <td>1.670626</td>\n",
       "      <td>1.683251</td>\n",
       "      <td>11021600</td>\n",
       "      <td>0.0</td>\n",
       "      <td>0.0</td>\n",
       "    </tr>\n",
       "    <tr>\n",
       "      <th>2</th>\n",
       "      <td>2002-02-15 00:00:00-05:00</td>\n",
       "      <td>1.683250</td>\n",
       "      <td>1.687458</td>\n",
       "      <td>1.658002</td>\n",
       "      <td>1.674834</td>\n",
       "      <td>8389600</td>\n",
       "      <td>0.0</td>\n",
       "      <td>0.0</td>\n",
       "    </tr>\n",
       "    <tr>\n",
       "      <th>3</th>\n",
       "      <td>2002-02-19 00:00:00-05:00</td>\n",
       "      <td>1.666418</td>\n",
       "      <td>1.666418</td>\n",
       "      <td>1.578047</td>\n",
       "      <td>1.607504</td>\n",
       "      <td>7410400</td>\n",
       "      <td>0.0</td>\n",
       "      <td>0.0</td>\n",
       "    </tr>\n",
       "    <tr>\n",
       "      <th>4</th>\n",
       "      <td>2002-02-20 00:00:00-05:00</td>\n",
       "      <td>1.615921</td>\n",
       "      <td>1.662210</td>\n",
       "      <td>1.603296</td>\n",
       "      <td>1.662210</td>\n",
       "      <td>6892800</td>\n",
       "      <td>0.0</td>\n",
       "      <td>0.0</td>\n",
       "    </tr>\n",
       "  </tbody>\n",
       "</table>\n",
       "</div>"
      ],
      "text/plain": [
       "                       Date      Open      High       Low     Close    Volume  \\\n",
       "0 2002-02-13 00:00:00-05:00  1.620128  1.693350  1.603296  1.691666  76216000   \n",
       "1 2002-02-14 00:00:00-05:00  1.712708  1.716074  1.670626  1.683251  11021600   \n",
       "2 2002-02-15 00:00:00-05:00  1.683250  1.687458  1.658002  1.674834   8389600   \n",
       "3 2002-02-19 00:00:00-05:00  1.666418  1.666418  1.578047  1.607504   7410400   \n",
       "4 2002-02-20 00:00:00-05:00  1.615921  1.662210  1.603296  1.662210   6892800   \n",
       "\n",
       "   Dividends  Stock Splits  \n",
       "0        0.0           0.0  \n",
       "1        0.0           0.0  \n",
       "2        0.0           0.0  \n",
       "3        0.0           0.0  \n",
       "4        0.0           0.0  "
      ]
     },
     "execution_count": 92,
     "metadata": {},
     "output_type": "execute_result"
    }
   ],
   "source": [
    "gme_data.reset_index(inplace=True)\n",
    "gme_data.head()"
   ]
  },
  {
   "cell_type": "markdown",
   "metadata": {},
   "source": [
    "## Question 4: Use Webscraping to Extract GME Revenue Data\n"
   ]
  },
  {
   "cell_type": "markdown",
   "metadata": {},
   "source": [
    "Use the `requests` library to download the webpage https://cf-courses-data.s3.us.cloud-object-storage.appdomain.cloud/IBMDeveloperSkillsNetwork-PY0220EN-SkillsNetwork/labs/project/stock.html. Save the text of the response as a variable named `html_data_2`.\n"
   ]
  },
  {
   "cell_type": "code",
   "execution_count": 93,
   "metadata": {},
   "outputs": [],
   "source": [
    "rl=\"https://www.macrotrends.net/stocks/charts/GME/gamestop/revenue\"\n",
    "html_data=requests.get(url).text"
   ]
  },
  {
   "cell_type": "markdown",
   "metadata": {},
   "source": [
    "Parse the html data using `beautiful_soup` using parser i.e `html5lib` or `html.parser`.\n"
   ]
  },
  {
   "cell_type": "code",
   "execution_count": 94,
   "metadata": {},
   "outputs": [
    {
     "data": {
      "text/plain": [
       "[<title>Tesla Revenue 2010-2022 | TSLA | MacroTrends</title>]"
      ]
     },
     "execution_count": 94,
     "metadata": {},
     "output_type": "execute_result"
    }
   ],
   "source": [
    "soup = BeautifulSoup(html_data, \"html.parser\")\n",
    "soup.find_all('title')"
   ]
  },
  {
   "cell_type": "markdown",
   "metadata": {},
   "source": [
    "Using `BeautifulSoup` or the `read_html` function extract the table with `GameStop Revenue` and store it into a dataframe named `gme_revenue`. The dataframe should have columns `Date` and `Revenue`. Make sure the comma and dollar sign is removed from the `Revenue` column.\n"
   ]
  },
  {
   "cell_type": "markdown",
   "metadata": {},
   "source": [
    "> **Note: Use the method similar to what you did in question 2.**  \n"
   ]
  },
  {
   "cell_type": "markdown",
   "metadata": {},
   "source": [
    "<details><summary>Click here if you need help locating the table</summary>\n",
    "\n",
    "```\n",
    "    \n",
    "Below is the code to isolate the table, you will now need to loop through the rows and columns like in the previous lab\n",
    "    \n",
    "soup.find_all(\"tbody\")[1]\n",
    "    \n",
    "If you want to use the read_html function the table is located at index 1\n",
    "\n",
    "\n",
    "```\n",
    "\n",
    "</details>\n"
   ]
  },
  {
   "cell_type": "code",
   "execution_count": 96,
   "metadata": {},
   "outputs": [],
   "source": [
    "gme_revenue = pd.DataFrame(columns=['Date', 'Revenue'])\n",
    "\n",
    "for table in soup.find_all('table'):\n",
    "\n",
    "    if ('GameStop Quarterly Revenue' in table.find('th').text):\n",
    "        rows = table.find_all('tr')\n",
    "        \n",
    "        for row in rows:\n",
    "            col = row.find_all('td')\n",
    "            \n",
    "            if col != []:\n",
    "                date = col[0].text\n",
    "                revenue = col[1].text.replace(',','').replace('$','')\n",
    "\n",
    "                gme_revenue = gme_revenue.append({\"Date\":date, \"Revenue\":revenue}, ignore_index=True)"
   ]
  },
  {
   "cell_type": "markdown",
   "metadata": {},
   "source": [
    "Display the last five rows of the `gme_revenue` dataframe using the `tail` function. Take a screenshot of the results.\n"
   ]
  },
  {
   "cell_type": "code",
   "execution_count": 97,
   "metadata": {},
   "outputs": [
    {
     "data": {
      "text/html": [
       "<div>\n",
       "<style scoped>\n",
       "    .dataframe tbody tr th:only-of-type {\n",
       "        vertical-align: middle;\n",
       "    }\n",
       "\n",
       "    .dataframe tbody tr th {\n",
       "        vertical-align: top;\n",
       "    }\n",
       "\n",
       "    .dataframe thead th {\n",
       "        text-align: right;\n",
       "    }\n",
       "</style>\n",
       "<table border=\"1\" class=\"dataframe\">\n",
       "  <thead>\n",
       "    <tr style=\"text-align: right;\">\n",
       "      <th></th>\n",
       "      <th>Date</th>\n",
       "      <th>Revenue</th>\n",
       "    </tr>\n",
       "  </thead>\n",
       "  <tbody>\n",
       "  </tbody>\n",
       "</table>\n",
       "</div>"
      ],
      "text/plain": [
       "Empty DataFrame\n",
       "Columns: [Date, Revenue]\n",
       "Index: []"
      ]
     },
     "execution_count": 97,
     "metadata": {},
     "output_type": "execute_result"
    }
   ],
   "source": [
    "gme_revenue.dropna(inplace=True)\n",
    "gme_revenue.tail()"
   ]
  },
  {
   "cell_type": "markdown",
   "metadata": {},
   "source": [
    "## Question 5: Plot Tesla Stock Graph\n"
   ]
  },
  {
   "cell_type": "markdown",
   "metadata": {},
   "source": [
    "Use the `make_graph` function to graph the Tesla Stock Data, also provide a title for the graph. Note the graph will only show data upto June 2021.\n"
   ]
  },
  {
   "cell_type": "markdown",
   "metadata": {},
   "source": [
    "<details><summary>Hint</summary>\n",
    "\n",
    "```\n",
    "\n",
    "You just need to invoke the make_graph function with the required parameter to print the graphs.The structure to call the `make_graph` function is `make_graph(tesla_data, tesla_revenue, 'Tesla')`.\n",
    "\n",
    "```\n",
    "    \n",
    "</details>\n"
   ]
  },
  {
   "cell_type": "code",
   "execution_count": 98,
   "metadata": {},
   "outputs": [
    {
     "name": "stderr",
     "output_type": "stream",
     "text": [
      "/tmp/ipykernel_300/2068038883.py:5: UserWarning:\n",
      "\n",
      "The argument 'infer_datetime_format' is deprecated and will be removed in a future version. A strict version of it is now the default, see https://pandas.pydata.org/pdeps/0004-consistent-to-datetime-parsing.html. You can safely remove this argument.\n",
      "\n",
      "/tmp/ipykernel_300/2068038883.py:6: UserWarning:\n",
      "\n",
      "The argument 'infer_datetime_format' is deprecated and will be removed in a future version. A strict version of it is now the default, see https://pandas.pydata.org/pdeps/0004-consistent-to-datetime-parsing.html. You can safely remove this argument.\n",
      "\n"
     ]
    },
    {
     "data": {
      "text/html": [
       "<iframe\n",
       "    scrolling=\"no\"\n",
       "    width=\"100%\"\n",
       "    height=\"920\"\n",
       "    src=\"iframe_figures/figure_98.html\"\n",
       "    frameborder=\"0\"\n",
       "    allowfullscreen\n",
       "></iframe>\n"
      ]
     },
     "metadata": {},
     "output_type": "display_data"
    }
   ],
   "source": [
    "make_graph(tesla_data, tesla_revenue, 'Tesla Stock Data Graph')"
   ]
  },
  {
   "cell_type": "markdown",
   "metadata": {},
   "source": [
    "## Question 6: Plot GameStop Stock Graph\n"
   ]
  },
  {
   "cell_type": "markdown",
   "metadata": {},
   "source": [
    "Use the `make_graph` function to graph the GameStop Stock Data, also provide a title for the graph. The structure to call the `make_graph` function is `make_graph(gme_data, gme_revenue, 'GameStop')`. Note the graph will only show data upto June 2021.\n"
   ]
  },
  {
   "cell_type": "markdown",
   "metadata": {},
   "source": [
    "<details><summary>Hint</summary>\n",
    "\n",
    "```\n",
    "\n",
    "You just need to invoke the make_graph function with the required parameter to print the graphs.The structure to call the `make_graph` function is `make_graph(gme_data, gme_revenue, 'GameStop')`\n",
    "\n",
    "```\n",
    "    \n",
    "</details>\n"
   ]
  },
  {
   "cell_type": "code",
   "execution_count": 99,
   "metadata": {},
   "outputs": [
    {
     "name": "stderr",
     "output_type": "stream",
     "text": [
      "/tmp/ipykernel_300/2068038883.py:5: UserWarning:\n",
      "\n",
      "The argument 'infer_datetime_format' is deprecated and will be removed in a future version. A strict version of it is now the default, see https://pandas.pydata.org/pdeps/0004-consistent-to-datetime-parsing.html. You can safely remove this argument.\n",
      "\n",
      "/tmp/ipykernel_300/2068038883.py:6: UserWarning:\n",
      "\n",
      "The argument 'infer_datetime_format' is deprecated and will be removed in a future version. A strict version of it is now the default, see https://pandas.pydata.org/pdeps/0004-consistent-to-datetime-parsing.html. You can safely remove this argument.\n",
      "\n"
     ]
    },
    {
     "data": {
      "text/html": [
       "<iframe\n",
       "    scrolling=\"no\"\n",
       "    width=\"100%\"\n",
       "    height=\"920\"\n",
       "    src=\"iframe_figures/figure_99.html\"\n",
       "    frameborder=\"0\"\n",
       "    allowfullscreen\n",
       "></iframe>\n"
      ]
     },
     "metadata": {},
     "output_type": "display_data"
    }
   ],
   "source": [
    "make_graph(gme_data, gme_revenue, 'GameStop Stock Data Graph')"
   ]
  },
  {
   "cell_type": "markdown",
   "metadata": {},
   "source": [
    "<h2>About the Authors:</h2> \n",
    "\n",
    "<a href=\"https://www.linkedin.com/in/joseph-s-50398b136/\">Joseph Santarcangelo</a> has a PhD in Electrical Engineering, his research focused on using machine learning, signal processing, and computer vision to determine how videos impact human cognition. Joseph has been working for IBM since he completed his PhD.\n",
    "\n",
    "Azim Hirjani\n"
   ]
  },
  {
   "cell_type": "markdown",
   "metadata": {},
   "source": [
    "## Change Log\n",
    "\n",
    "| Date (YYYY-MM-DD) | Version | Changed By    | Change Description        |\n",
    "| ----------------- | ------- | ------------- | ------------------------- |\n",
    "| 2022-02-28        | 1.2     | Lakshmi Holla | Changed the URL of GameStop |\n",
    "| 2020-11-10        | 1.1     | Malika Singla | Deleted the Optional part |\n",
    "| 2020-08-27        | 1.0     | Malika Singla | Added lab to GitLab       |\n",
    "\n",
    "<hr>\n",
    "\n",
    "## <h3 align=\"center\"> © IBM Corporation 2020. All rights reserved. <h3/>\n",
    "\n",
    "<p>\n"
   ]
  }
 ],
 "metadata": {
  "kernelspec": {
   "display_name": "Python 3 (ipykernel)",
   "language": "python",
   "name": "python3"
  },
  "language_info": {
   "codemirror_mode": {
    "name": "ipython",
    "version": 3
   },
   "file_extension": ".py",
   "mimetype": "text/x-python",
   "name": "python",
   "nbconvert_exporter": "python",
   "pygments_lexer": "ipython3",
   "version": "3.12.8"
  },
  "prev_pub_hash": "a254c181ff89ab7bfd41849357df0b3716744f3a6dc743cb8ee1d0c6ffe92fcd"
 },
 "nbformat": 4,
 "nbformat_minor": 4
}
